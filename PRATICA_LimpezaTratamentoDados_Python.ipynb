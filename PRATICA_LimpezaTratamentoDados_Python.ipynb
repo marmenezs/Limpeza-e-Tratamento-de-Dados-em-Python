{
 "cells": [
  {
   "cell_type": "markdown",
   "metadata": {},
   "source": [
    "Prática - Limpeza e Tratamento de Dados\n",
    "\n",
    "Informações sobre o conjunto de dados:\n",
    "- Aparência = Sol, Nublado, Chuva\n",
    "- Temperatura -130 ~ 130 °F\n",
    "- Umidade: 0 a 100\n",
    "- Jogar: Sim/Não"
   ]
  },
  {
   "cell_type": "code",
   "execution_count": 2,
   "metadata": {},
   "outputs": [],
   "source": [
    "import pandas as pd\n",
    "import seaborn as srn\n",
    "import statistics as sts"
   ]
  },
  {
   "cell_type": "code",
   "execution_count": 3,
   "metadata": {},
   "outputs": [
    {
     "data": {
      "text/html": [
       "<div>\n",
       "<style scoped>\n",
       "    .dataframe tbody tr th:only-of-type {\n",
       "        vertical-align: middle;\n",
       "    }\n",
       "\n",
       "    .dataframe tbody tr th {\n",
       "        vertical-align: top;\n",
       "    }\n",
       "\n",
       "    .dataframe thead th {\n",
       "        text-align: right;\n",
       "    }\n",
       "</style>\n",
       "<table border=\"1\" class=\"dataframe\">\n",
       "  <thead>\n",
       "    <tr style=\"text-align: right;\">\n",
       "      <th></th>\n",
       "      <th>Aparencia</th>\n",
       "      <th>Temperatura</th>\n",
       "      <th>Umidade</th>\n",
       "      <th>Vento</th>\n",
       "      <th>Jogar</th>\n",
       "    </tr>\n",
       "  </thead>\n",
       "  <tbody>\n",
       "    <tr>\n",
       "      <th>0</th>\n",
       "      <td>sol</td>\n",
       "      <td>85</td>\n",
       "      <td>85.0</td>\n",
       "      <td>FALSO</td>\n",
       "      <td>nao</td>\n",
       "    </tr>\n",
       "    <tr>\n",
       "      <th>1</th>\n",
       "      <td>sol</td>\n",
       "      <td>80</td>\n",
       "      <td>90.0</td>\n",
       "      <td>VERDADEIRO</td>\n",
       "      <td>nao</td>\n",
       "    </tr>\n",
       "    <tr>\n",
       "      <th>2</th>\n",
       "      <td>nublado</td>\n",
       "      <td>83</td>\n",
       "      <td>86.0</td>\n",
       "      <td>FALSO</td>\n",
       "      <td>sim</td>\n",
       "    </tr>\n",
       "    <tr>\n",
       "      <th>3</th>\n",
       "      <td>chuva</td>\n",
       "      <td>70</td>\n",
       "      <td>NaN</td>\n",
       "      <td>FALSO</td>\n",
       "      <td>sim</td>\n",
       "    </tr>\n",
       "    <tr>\n",
       "      <th>4</th>\n",
       "      <td>chuva</td>\n",
       "      <td>68</td>\n",
       "      <td>80.0</td>\n",
       "      <td>FALSO</td>\n",
       "      <td>sim</td>\n",
       "    </tr>\n",
       "  </tbody>\n",
       "</table>\n",
       "</div>"
      ],
      "text/plain": [
       "  Aparencia  Temperatura  Umidade       Vento Jogar\n",
       "0       sol           85     85.0       FALSO   nao\n",
       "1       sol           80     90.0  VERDADEIRO   nao\n",
       "2   nublado           83     86.0       FALSO   sim\n",
       "3     chuva           70      NaN       FALSO   sim\n",
       "4     chuva           68     80.0       FALSO   sim"
      ]
     },
     "execution_count": 3,
     "metadata": {},
     "output_type": "execute_result"
    }
   ],
   "source": [
    "#importando dados\n",
    "dataset = pd.read_csv(\"tempo.csv\", sep=\";\")\n",
    "dataset.head()"
   ]
  },
  {
   "cell_type": "code",
   "execution_count": 4,
   "metadata": {},
   "outputs": [
    {
     "data": {
      "text/plain": [
       "(14, 5)"
      ]
     },
     "execution_count": 4,
     "metadata": {},
     "output_type": "execute_result"
    }
   ],
   "source": [
    "#verificando tamanho do dadaset\n",
    "dataset.shape"
   ]
  },
  {
   "cell_type": "markdown",
   "metadata": {},
   "source": [
    "Explorando os dados:"
   ]
  },
  {
   "cell_type": "code",
   "execution_count": 5,
   "metadata": {},
   "outputs": [
    {
     "data": {
      "text/plain": [
       "Aparencia\n",
       "chuva      5\n",
       "menos      1\n",
       "nublado    3\n",
       "sol        5\n",
       "dtype: int64"
      ]
     },
     "execution_count": 5,
     "metadata": {},
     "output_type": "execute_result"
    }
   ],
   "source": [
    "#explorando dados\n",
    "#aparência\n",
    "aparencia = dataset.groupby(['Aparencia']).size()\n",
    "aparencia"
   ]
  },
  {
   "cell_type": "markdown",
   "metadata": {},
   "source": [
    "#OBSERVAÇÃO: verifica-se uma característica (menos) fora do domínio "
   ]
  },
  {
   "cell_type": "code",
   "execution_count": 10,
   "metadata": {},
   "outputs": [
    {
     "data": {
      "text/plain": [
       "<matplotlib.axes._subplots.AxesSubplot at 0x179bf0ae240>"
      ]
     },
     "execution_count": 10,
     "metadata": {},
     "output_type": "execute_result"
    },
    {
     "data": {
      "image/png": "[encoded data removed]",
      "text/plain": [
       "<Figure size 432x288 with 1 Axes>"
      ]
     },
     "metadata": {
      "needs_background": "light"
     },
     "output_type": "display_data"
    }
   ],
   "source": [
    "#plotando os dados para melhor visualização\n",
    "aparencia.plot.bar(color = 'gray')"
   ]
  },
  {
   "cell_type": "code",
   "execution_count": 11,
   "metadata": {},
   "outputs": [
    {
     "data": {
      "text/plain": [
       "count      14.000000\n",
       "mean      155.571429\n",
       "std       306.433759\n",
       "min        64.000000\n",
       "25%        69.250000\n",
       "50%        73.500000\n",
       "75%        80.750000\n",
       "max      1220.000000\n",
       "Name: Temperatura, dtype: float64"
      ]
     },
     "execution_count": 11,
     "metadata": {},
     "output_type": "execute_result"
    }
   ],
   "source": [
    "#explorando dados\n",
    "#temperatura\n",
    "dataset['Temperatura'].describe()"
   ]
  },
  {
   "cell_type": "code",
   "execution_count": 12,
   "metadata": {},
   "outputs": [
    {
     "data": {
      "text/plain": [
       "Text(0.5, 1.0, 'Temperatura')"
      ]
     },
     "execution_count": 12,
     "metadata": {},
     "output_type": "execute_result"
    },
    {
     "data": {
      "image/png": "[encoded data removed]",
      "text/plain": [
       "<Figure size 432x288 with 1 Axes>"
      ]
     },
     "metadata": {
      "needs_background": "light"
     },
     "output_type": "display_data"
    }
   ],
   "source": [
    "#plotando boxplot\n",
    "srn.boxplot(dataset['Temperatura']).set_title('Temperatura')"
   ]
  },
  {
   "cell_type": "code",
   "execution_count": 13,
   "metadata": {},
   "outputs": [
    {
     "data": {
      "text/plain": [
       "Text(0.5, 1.0, 'Temperatura')"
      ]
     },
     "execution_count": 13,
     "metadata": {},
     "output_type": "execute_result"
    },
    {
     "data": {
      "image/png": "[encoded data removed]",
      "text/plain": [
       "<Figure size 432x288 with 1 Axes>"
      ]
     },
     "metadata": {
      "needs_background": "light"
     },
     "output_type": "display_data"
    }
   ],
   "source": [
    "#plotando gráfico de distribuição\n",
    "srn.distplot(dataset['Temperatura']).set_title('Temperatura')"
   ]
  },
  {
   "cell_type": "markdown",
   "metadata": {},
   "source": [
    "OBSERVAÇÃO: verifica-se que alguns pontos de Temperatura extrapolam o intervalo (intervalo = -130 a 130°F)"
   ]
  },
  {
   "cell_type": "code",
   "execution_count": 15,
   "metadata": {},
   "outputs": [
    {
     "data": {
      "text/plain": [
       "count     13.000000\n",
       "mean      89.769231\n",
       "std       34.540203\n",
       "min       65.000000\n",
       "25%       70.000000\n",
       "50%       85.000000\n",
       "75%       90.000000\n",
       "max      200.000000\n",
       "Name: Umidade, dtype: float64"
      ]
     },
     "execution_count": 15,
     "metadata": {},
     "output_type": "execute_result"
    }
   ],
   "source": [
    "#explorando dados\n",
    "#umidade\n",
    "dataset['Umidade'].describe()"
   ]
  },
  {
   "cell_type": "code",
   "execution_count": 16,
   "metadata": {},
   "outputs": [
    {
     "data": {
      "text/plain": [
       "Text(0.5, 1.0, 'Umidade')"
      ]
     },
     "execution_count": 16,
     "metadata": {},
     "output_type": "execute_result"
    },
    {
     "data": {
      "image/png": "[encoded data removed]",
      "text/plain": [
       "<Figure size 432x288 with 1 Axes>"
      ]
     },
     "metadata": {
      "needs_background": "light"
     },
     "output_type": "display_data"
    }
   ],
   "source": [
    "#plotando boxplot\n",
    "srn.boxplot(dataset['Umidade']).set_title('Umidade')"
   ]
  },
  {
   "cell_type": "markdown",
   "metadata": {},
   "source": [
    "OBSERVAÇÃO: verifica-se que alguns pontos de Umidade extrapolam o intervalo (intervalo = 0 a 100)"
   ]
  },
  {
   "cell_type": "code",
   "execution_count": 19,
   "metadata": {},
   "outputs": [
    {
     "data": {
      "text/plain": [
       "Aparencia      0\n",
       "Temperatura    0\n",
       "Umidade        1\n",
       "Vento          1\n",
       "Jogar          0\n",
       "dtype: int64"
      ]
     },
     "execution_count": 19,
     "metadata": {},
     "output_type": "execute_result"
    }
   ],
   "source": [
    "#buscando valores NaN\n",
    "dataset.isnull().sum()"
   ]
  },
  {
   "cell_type": "markdown",
   "metadata": {},
   "source": [
    "Tratando os dados"
   ]
  },
  {
   "cell_type": "code",
   "execution_count": 20,
   "metadata": {},
   "outputs": [
    {
     "data": {
      "text/plain": [
       "0"
      ]
     },
     "execution_count": 20,
     "metadata": {},
     "output_type": "execute_result"
    }
   ],
   "source": [
    "#tratando os dados\n",
    "#os valores NaN encontrados na coluna \"Umidade\" podem ser substituídos pela mediana\n",
    "mediana = sts.median(dataset['Umidade'])\n",
    "dataset['Umidade'].fillna(mediana, inplace = True)\n",
    "dataset['Umidade'].isnull().sum()"
   ]
  },
  {
   "cell_type": "code",
   "execution_count": 22,
   "metadata": {},
   "outputs": [
    {
     "data": {
      "text/plain": [
       "0"
      ]
     },
     "execution_count": 22,
     "metadata": {},
     "output_type": "execute_result"
    }
   ],
   "source": [
    "#tratando os dados\n",
    "#os valores NaN encontrados na coluna \"Vento\" podem ser substituídos pela moda (moda = Masculino)\n",
    "#verificando qual a moda\n",
    "vento = dataset.groupby(['Vento']).size()\n",
    "vento\n",
    "#fazendo as substituições\n",
    "dataset['Vento'].fillna('FALSO', inplace = True)\n",
    "dataset['Vento'].isnull().sum()"
   ]
  },
  {
   "cell_type": "code",
   "execution_count": 35,
   "metadata": {},
   "outputs": [
    {
     "data": {
      "text/plain": [
       "Aparencia      0\n",
       "Temperatura    0\n",
       "Umidade        0\n",
       "Vento          0\n",
       "Jogar          0\n",
       "dtype: int64"
      ]
     },
     "execution_count": 35,
     "metadata": {},
     "output_type": "execute_result"
    }
   ],
   "source": [
    "#testando se ainda existem valores NaN\n",
    "dataset.isnull().sum()"
   ]
  },
  {
   "cell_type": "code",
   "execution_count": 38,
   "metadata": {},
   "outputs": [
    {
     "data": {
      "text/plain": [
       "Aparencia\n",
       "chuva      5\n",
       "nublado    3\n",
       "sol        6\n",
       "dtype: int64"
      ]
     },
     "execution_count": 38,
     "metadata": {},
     "output_type": "execute_result"
    }
   ],
   "source": [
    "#tratando os dados\n",
    "#verificando uma Aparencia fora do domínio e substituindo-a pela moda\n",
    "dataset.loc[dataset['Aparencia'] == 'menos', 'Aparencia'] = \"sol\"\n",
    "dataset.loc[dataset['Aparencia'] == 'Sol', 'Aparencia'] = \"sol\"\n",
    "\n",
    "aparencia2 = dataset.groupby(['Aparencia']).size()\n",
    "aparencia2 "
   ]
  },
  {
   "cell_type": "code",
   "execution_count": 41,
   "metadata": {},
   "outputs": [
    {
     "data": {
      "text/html": [
       "<div>\n",
       "<style scoped>\n",
       "    .dataframe tbody tr th:only-of-type {\n",
       "        vertical-align: middle;\n",
       "    }\n",
       "\n",
       "    .dataframe tbody tr th {\n",
       "        vertical-align: top;\n",
       "    }\n",
       "\n",
       "    .dataframe thead th {\n",
       "        text-align: right;\n",
       "    }\n",
       "</style>\n",
       "<table border=\"1\" class=\"dataframe\">\n",
       "  <thead>\n",
       "    <tr style=\"text-align: right;\">\n",
       "      <th></th>\n",
       "      <th>Aparencia</th>\n",
       "      <th>Temperatura</th>\n",
       "      <th>Umidade</th>\n",
       "      <th>Vento</th>\n",
       "      <th>Jogar</th>\n",
       "    </tr>\n",
       "  </thead>\n",
       "  <tbody>\n",
       "  </tbody>\n",
       "</table>\n",
       "</div>"
      ],
      "text/plain": [
       "Empty DataFrame\n",
       "Columns: [Aparencia, Temperatura, Umidade, Vento, Jogar]\n",
       "Index: []"
      ]
     },
     "execution_count": 41,
     "metadata": {},
     "output_type": "execute_result"
    }
   ],
   "source": [
    "#tratando os dados\n",
    "#verificando as temperaturas fora de domínio e substituindo-as pela mediana das temperaturas\n",
    "\n",
    "dataset.loc[(dataset['Temperatura'] < (-130)) | (dataset['Temperatura'] > 130)] #verificação\n",
    "\n",
    "mediana2 = sts.median(dataset['Temperatura'])\n",
    "dataset.loc[(dataset['Temperatura'] < (-130)) | (dataset['Temperatura'] > 130), 'Temperatura'] = mediana2\n",
    "dataset.loc[(dataset['Temperatura'] < (-130)) | (dataset['Temperatura'] > 130)]"
   ]
  },
  {
   "cell_type": "code",
   "execution_count": 43,
   "metadata": {},
   "outputs": [
    {
     "data": {
      "text/html": [
       "<div>\n",
       "<style scoped>\n",
       "    .dataframe tbody tr th:only-of-type {\n",
       "        vertical-align: middle;\n",
       "    }\n",
       "\n",
       "    .dataframe tbody tr th {\n",
       "        vertical-align: top;\n",
       "    }\n",
       "\n",
       "    .dataframe thead th {\n",
       "        text-align: right;\n",
       "    }\n",
       "</style>\n",
       "<table border=\"1\" class=\"dataframe\">\n",
       "  <thead>\n",
       "    <tr style=\"text-align: right;\">\n",
       "      <th></th>\n",
       "      <th>Aparencia</th>\n",
       "      <th>Temperatura</th>\n",
       "      <th>Umidade</th>\n",
       "      <th>Vento</th>\n",
       "      <th>Jogar</th>\n",
       "    </tr>\n",
       "  </thead>\n",
       "  <tbody>\n",
       "  </tbody>\n",
       "</table>\n",
       "</div>"
      ],
      "text/plain": [
       "Empty DataFrame\n",
       "Columns: [Aparencia, Temperatura, Umidade, Vento, Jogar]\n",
       "Index: []"
      ]
     },
     "execution_count": 43,
     "metadata": {},
     "output_type": "execute_result"
    }
   ],
   "source": [
    "#tratando os dados\n",
    "#verificando as umidades fora de domínio e substituindo-as pela mediana das umidades\n",
    "\n",
    "dataset.loc[(dataset['Umidade'] < 0) | (dataset['Umidade'] > 100)] #verificação\n",
    "\n",
    "mediana3 = sts.median(dataset['Umidade'])\n",
    "dataset.loc[(dataset['Umidade'] < 0) | (dataset['Umidade'] > 100), 'Umidade'] = mediana3\n",
    "dataset.loc[(dataset['Umidade'] < 0) | (dataset['Umidade'] > 100)]"
   ]
  },
  {
   "cell_type": "code",
   "execution_count": 44,
   "metadata": {},
   "outputs": [
    {
     "data": {
      "text/html": [
       "<div>\n",
       "<style scoped>\n",
       "    .dataframe tbody tr th:only-of-type {\n",
       "        vertical-align: middle;\n",
       "    }\n",
       "\n",
       "    .dataframe tbody tr th {\n",
       "        vertical-align: top;\n",
       "    }\n",
       "\n",
       "    .dataframe thead th {\n",
       "        text-align: right;\n",
       "    }\n",
       "</style>\n",
       "<table border=\"1\" class=\"dataframe\">\n",
       "  <thead>\n",
       "    <tr style=\"text-align: right;\">\n",
       "      <th></th>\n",
       "      <th>Aparencia</th>\n",
       "      <th>Temperatura</th>\n",
       "      <th>Umidade</th>\n",
       "      <th>Vento</th>\n",
       "      <th>Jogar</th>\n",
       "    </tr>\n",
       "  </thead>\n",
       "  <tbody>\n",
       "    <tr>\n",
       "      <th>0</th>\n",
       "      <td>sol</td>\n",
       "      <td>85.0</td>\n",
       "      <td>85.0</td>\n",
       "      <td>FALSO</td>\n",
       "      <td>nao</td>\n",
       "    </tr>\n",
       "    <tr>\n",
       "      <th>1</th>\n",
       "      <td>sol</td>\n",
       "      <td>80.0</td>\n",
       "      <td>90.0</td>\n",
       "      <td>VERDADEIRO</td>\n",
       "      <td>nao</td>\n",
       "    </tr>\n",
       "    <tr>\n",
       "      <th>2</th>\n",
       "      <td>nublado</td>\n",
       "      <td>83.0</td>\n",
       "      <td>86.0</td>\n",
       "      <td>FALSO</td>\n",
       "      <td>sim</td>\n",
       "    </tr>\n",
       "    <tr>\n",
       "      <th>3</th>\n",
       "      <td>chuva</td>\n",
       "      <td>70.0</td>\n",
       "      <td>85.5</td>\n",
       "      <td>FALSO</td>\n",
       "      <td>sim</td>\n",
       "    </tr>\n",
       "    <tr>\n",
       "      <th>4</th>\n",
       "      <td>chuva</td>\n",
       "      <td>68.0</td>\n",
       "      <td>80.0</td>\n",
       "      <td>FALSO</td>\n",
       "      <td>sim</td>\n",
       "    </tr>\n",
       "  </tbody>\n",
       "</table>\n",
       "</div>"
      ],
      "text/plain": [
       "  Aparencia  Temperatura  Umidade       Vento Jogar\n",
       "0       sol         85.0     85.0       FALSO   nao\n",
       "1       sol         80.0     90.0  VERDADEIRO   nao\n",
       "2   nublado         83.0     86.0       FALSO   sim\n",
       "3     chuva         70.0     85.5       FALSO   sim\n",
       "4     chuva         68.0     80.0       FALSO   sim"
      ]
     },
     "execution_count": 44,
     "metadata": {},
     "output_type": "execute_result"
    }
   ],
   "source": [
    "dataset.head()"
   ]
  },
  {
   "cell_type": "code",
   "execution_count": null,
   "metadata": {},
   "outputs": [],
   "source": []
  }
 ],
 "metadata": {
  "kernelspec": {
   "display_name": "Python 3",
   "language": "python",
   "name": "python3"
  },
  "language_info": {
   "codemirror_mode": {
    "name": "ipython",
    "version": 3
   },
   "file_extension": ".py",
   "mimetype": "text/x-python",
   "name": "python",
   "nbconvert_exporter": "python",
   "pygments_lexer": "ipython3",
   "version": "3.7.3"
  }
 },
 "nbformat": 4,
 "nbformat_minor": 2
}
